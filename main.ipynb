{
 "cells": [
  {
   "cell_type": "code",
   "execution_count": 1,
   "metadata": {},
   "outputs": [],
   "source": [
    "import pandas as pd\n",
    "import requests\n",
    "from bs4 import BeautifulSoup"
   ]
  },
  {
   "cell_type": "code",
   "execution_count": null,
   "metadata": {},
   "outputs": [],
   "source": [
    "url = \"https://stackoverflow.com/jobs/companies\"\n",
    "\n",
    "connection_attempts = 3\n",
    "\n",
    "while connection_attempts > 0:\n",
    "    response = requests.get(url)\n",
    "\n",
    "    if response.status_code == 200:\n",
    "        print(\"Successfully connected\")\n",
    "        soup = BeautifulSoup(response.text, \"html\")\n",
    "        print(soup)\n",
    "        break\n",
    "\n",
    "    elif response.status_code == 429:\n",
    "         print(\"Response [429], Reattempting to connect\")\n",
    "         connection_attempts -= 1\n",
    "\n",
    "    elif response.status_code == 403:\n",
    "            print(\"Access denied\") \n",
    "            break\n",
    "    else:\n",
    "         print(\"Invalid link\")\n",
    "         break\n",
    "\n",
    "\n"
   ]
  },
  {
   "cell_type": "code",
   "execution_count": null,
   "metadata": {},
   "outputs": [],
   "source": [
    "soup.find_all(\"a\", class_=\"s-link\")"
   ]
  },
  {
   "cell_type": "code",
   "execution_count": 4,
   "metadata": {},
   "outputs": [
    {
     "data": {
      "text/plain": [
       "[<a class=\"s-link\" href=\"/jobs/companies/intuit?c=OMBF8QvlE61gqGbu\">Intuit</a>,\n",
       " <a class=\"s-link\" href=\"/jobs/companies/discover-financial-svcs?c=OKWV0MuOfHpBFieI\">Discover Financial Svcs</a>,\n",
       " <a class=\"s-link\" href=\"/jobs/companies/discover-financial-services?c=OJMorUBIUPzuLXGw\">Discover Financial Services</a>,\n",
       " <a class=\"s-link\" href=\"/jobs/companies/global-industrial?c=OQpmYaDSuq07PvtC\">Global Industrial</a>,\n",
       " <a class=\"s-link\" href=\"/jobs/companies/aldi-s%C3%BCd-it?c=OTIReiEXhddrmhna\">ALDI SÜD IT</a>,\n",
       " <a class=\"s-link\" href=\"/jobs/companies/it-sonix-custom-development-gmbh?c=OPeQpiKN9ya0WaVq\">IT Sonix Custom Development GmbH</a>,\n",
       " <a class=\"s-link\" href=\"/jobs/companies/jpmorgan-chase-co?c=NjWXyu9b3NnEguru\">JPMorgan Chase &amp; Co.</a>,\n",
       " <a class=\"s-link\" href=\"/jobs/companies/adjoe?c=OMpzImRaqhIfhsqs\">adjoe </a>,\n",
       " <a class=\"s-link\" href=\"/jobs/companies/embl-ebi-embls-european-bioinformatics-institute?c=OOQFylsqHVxYDJpm\">EMBL-EBI (EMBL's European Bioinformatics Institute)</a>,\n",
       " <a class=\"s-link\" href=\"/jobs/companies/sartorius?c=ON5SI2CNHCMOiJA4\">Sartorius</a>]"
      ]
     },
     "execution_count": 4,
     "metadata": {},
     "output_type": "execute_result"
    }
   ],
   "source": [
    "company_list = soup.find_all(\"a\", class_=\"s-link\", href=lambda href: href and \"/jobs/companies\" in href)\n",
    "company_list"
   ]
  },
  {
   "cell_type": "code",
   "execution_count": 5,
   "metadata": {},
   "outputs": [
    {
     "data": {
      "text/plain": [
       "['Intuit',\n",
       " 'Discover Financial Svcs',\n",
       " 'Discover Financial Services',\n",
       " 'Global Industrial',\n",
       " 'ALDI SÜD IT',\n",
       " 'IT Sonix Custom Development GmbH',\n",
       " 'JPMorgan Chase & Co.',\n",
       " 'adjoe',\n",
       " \"EMBL-EBI (EMBL's European Bioinformatics Institute)\",\n",
       " 'Sartorius']"
      ]
     },
     "execution_count": 5,
     "metadata": {},
     "output_type": "execute_result"
    }
   ],
   "source": [
    "companies = []\n",
    "\n",
    "for names in range(len(company_list)):\n",
    "    companies.append(company_list[names].text.strip())\n",
    "\n",
    "companies"
   ]
  },
  {
   "cell_type": "code",
   "execution_count": 6,
   "metadata": {},
   "outputs": [
    {
     "data": {
      "text/plain": [
       "'/jobs/companies/intuit?c=OMBF8QvlE61gqGbu'"
      ]
     },
     "execution_count": 6,
     "metadata": {},
     "output_type": "execute_result"
    }
   ],
   "source": [
    "# link to the first company's profile page\n",
    "# note: link is missing \"https://stackoverflow.com\"\n",
    "company_list[0][\"href\"]"
   ]
  },
  {
   "cell_type": "code",
   "execution_count": 7,
   "metadata": {},
   "outputs": [
    {
     "data": {
      "text/plain": [
       "['https://stackoverflow.com/jobs/companies/intuit?c=OMBF8QvlE61gqGbu',\n",
       " 'https://stackoverflow.com/jobs/companies/discover-financial-svcs?c=OKWV0MuOfHpBFieI',\n",
       " 'https://stackoverflow.com/jobs/companies/discover-financial-services?c=OJMorUBIUPzuLXGw',\n",
       " 'https://stackoverflow.com/jobs/companies/global-industrial?c=OQpmYaDSuq07PvtC',\n",
       " 'https://stackoverflow.com/jobs/companies/aldi-s%C3%BCd-it?c=OTIReiEXhddrmhna',\n",
       " 'https://stackoverflow.com/jobs/companies/it-sonix-custom-development-gmbh?c=OPeQpiKN9ya0WaVq',\n",
       " 'https://stackoverflow.com/jobs/companies/jpmorgan-chase-co?c=NjWXyu9b3NnEguru',\n",
       " 'https://stackoverflow.com/jobs/companies/adjoe?c=OMpzImRaqhIfhsqs',\n",
       " 'https://stackoverflow.com/jobs/companies/embl-ebi-embls-european-bioinformatics-institute?c=OOQFylsqHVxYDJpm',\n",
       " 'https://stackoverflow.com/jobs/companies/sartorius?c=ON5SI2CNHCMOiJA4']"
      ]
     },
     "execution_count": 7,
     "metadata": {},
     "output_type": "execute_result"
    }
   ],
   "source": [
    "# get link to each company page\n",
    "\n",
    "company_links = []\n",
    "\n",
    "for names in range(len(company_list)):\n",
    "    company_links.append(\"https://stackoverflow.com\" + company_list[names][\"href\"])\n",
    "\n",
    "company_links\n"
   ]
  },
  {
   "cell_type": "code",
   "execution_count": 76,
   "metadata": {},
   "outputs": [
    {
     "name": "stdout",
     "output_type": "stream",
     "text": [
      "Successfully connected\n",
      "Successfully connected\n",
      "Successfully connected\n",
      "Successfully connected\n",
      "Successfully connected\n",
      "Successfully connected\n",
      "Successfully connected\n"
     ]
    }
   ],
   "source": [
    "# Scraping Multiple Pages\n",
    "\n",
    "connection_attempts = 3\n",
    "max_pages = 7\n",
    "\n",
    "for page in range(1, max_pages + 1):\n",
    "     url = f\"https://stackoverflow.com/jobs/companies?pg={page}\"\n",
    "     \n",
    "     while connection_attempts > 0:\n",
    "        response = requests.get(url)\n",
    "\n",
    "        if response.status_code == 200:\n",
    "            print(\"Successfully connected\")\n",
    "            soup = BeautifulSoup(response.text, \"html\")\n",
    "            #print(\"soup\")\n",
    "            break\n",
    "\n",
    "        elif response.status_code == 429:\n",
    "            print(\"Response [429], Reattempting to connect\")\n",
    "            connection_attempts -= 1\n",
    "\n",
    "        elif response.status_code == 403:\n",
    "                print(\"Access denied\") \n",
    "                break\n",
    "        else:\n",
    "            print(\"Invalid link\")\n",
    "            break"
   ]
  },
  {
   "cell_type": "markdown",
   "metadata": {},
   "source": [
    "## Scraping each company profile page"
   ]
  },
  {
   "cell_type": "code",
   "execution_count": 77,
   "metadata": {},
   "outputs": [],
   "source": [
    "df = pd.DataFrame(\n",
    "    columns = [[\"company\", \"industry\", \"size\", \"year_founded\", \"status\", \"follower_count\", \"tech_stack\", \"benefits\"]]\n",
    ")\n"
   ]
  },
  {
   "cell_type": "code",
   "execution_count": 57,
   "metadata": {},
   "outputs": [],
   "source": [
    "# Creating the def function\n",
    "\n",
    "def scrape_page(soupy):\n",
    "    company_name = soupy.find(\"h1\").text.strip() # Company Name\n",
    "\n",
    "    \n",
    "    about_company = soupy.find_all(\"span\", class_ = \"d-block\")\n",
    "\n",
    "    industry = about_company[12].text.strip() # Narrowed search to only industry, size, year founded, status, and followers by calling specific indexes\n",
    "    size = about_company[13].text.strip() \n",
    "    year_founded = about_company[14].text.strip()\n",
    "    status = about_company[15].text.strip()\n",
    "    followers = about_company[16].text.strip()\n",
    "\n",
    "\n",
    "    tech_skills = soupy.find_all(\"a\", class_ = \"flex--item s-tag no-tag-menu\") # Searched for the company's tech stack\n",
    "    tech_stack = [] # Created a list containing all relevant tech skills \n",
    "\n",
    "    for item in range(len(tech_skills)):\n",
    "        tech_stack.append(tech_skills[item].text.strip())\n",
    "\n",
    "\n",
    "    benefits_list = soupy.find_all(\"div\", class_=\"flex--item pl8 pt2 fw-normal fs-body2 fc-black-700\") # Searched for company benefits\n",
    "    benefits = [] # Created a list containing all listed company benefits\n",
    "\n",
    "    for item in range(len(benefits_list)):\n",
    "        benefits.append(benefits_list[item].text.strip())\n",
    "    \n",
    "    \n",
    "    # Appended all webscrapped elements into a list \"new_row\"\n",
    "\n",
    "    new_row = [] \n",
    "\n",
    "    new_row.append(company_name)\n",
    "    new_row.append(industry)\n",
    "    new_row.append(size)\n",
    "    new_row.append(year_founded)\n",
    "    new_row.append(status)\n",
    "    new_row.append(followers)\n",
    "    new_row.append(tech_stack)\n",
    "    new_row.append(benefits)\n",
    "\n",
    "    df.loc[len(df.index)] = new_row # Added the list as a new row in the dataframe\n"
   ]
  },
  {
   "cell_type": "code",
   "execution_count": 63,
   "metadata": {},
   "outputs": [
    {
     "name": "stdout",
     "output_type": "stream",
     "text": [
      "Successful Attempt!\n",
      "Successful Attempt!\n",
      "Successful Attempt!\n",
      "Successful Attempt!\n",
      "Successful Attempt!\n",
      "Successful Attempt!\n",
      "Successful Attempt!\n",
      "Successful Attempt!\n",
      "Successful Attempt!\n",
      "Successful Attempt!\n"
     ]
    }
   ],
   "source": [
    "# entering each link \n",
    "\n",
    "for link in range(len(company_links)):  # currently testing -> final code would have range(len(company_links))\n",
    "    response = requests.get(company_links[link])\n",
    "    max_attempts = 3\n",
    "\n",
    "    while max_attempts > 0:\n",
    "\n",
    "        if response.status_code == 200:\n",
    "            print(\"Successful Attempt!\")\n",
    "            soupy = BeautifulSoup(response.text, \"html\")\n",
    "            scrape_page(soupy)\n",
    "            break\n",
    "\n",
    "        elif response.status_code == 429:\n",
    "            print(\"Response 429, reattempting...\")\n",
    "            max_attempts -=1\n",
    "\n",
    "        elif response.status_code == 403:\n",
    "            print(\"Access Denied\")\n",
    "            break\n",
    "        \n",
    "        else:\n",
    "            print(response.status_code)\n",
    "            break"
   ]
  },
  {
   "cell_type": "code",
   "execution_count": 78,
   "metadata": {},
   "outputs": [
    {
     "data": {
      "text/html": [
       "<div>\n",
       "<style scoped>\n",
       "    .dataframe tbody tr th:only-of-type {\n",
       "        vertical-align: middle;\n",
       "    }\n",
       "\n",
       "    .dataframe tbody tr th {\n",
       "        vertical-align: top;\n",
       "    }\n",
       "\n",
       "    .dataframe thead tr th {\n",
       "        text-align: left;\n",
       "    }\n",
       "</style>\n",
       "<table border=\"1\" class=\"dataframe\">\n",
       "  <thead>\n",
       "    <tr>\n",
       "      <th></th>\n",
       "      <th>company</th>\n",
       "      <th>industry</th>\n",
       "      <th>size</th>\n",
       "      <th>year_founded</th>\n",
       "      <th>status</th>\n",
       "      <th>follower_count</th>\n",
       "      <th>tech_stack</th>\n",
       "      <th>benefits</th>\n",
       "    </tr>\n",
       "  </thead>\n",
       "  <tbody>\n",
       "  </tbody>\n",
       "</table>\n",
       "</div>"
      ],
      "text/plain": [
       "Empty DataFrame\n",
       "Columns: [(company,), (industry,), (size,), (year_founded,), (status,), (follower_count,), (tech_stack,), (benefits,)]\n",
       "Index: []"
      ]
     },
     "execution_count": 78,
     "metadata": {},
     "output_type": "execute_result"
    }
   ],
   "source": [
    "df"
   ]
  }
 ],
 "metadata": {
  "kernelspec": {
   "display_name": "base",
   "language": "python",
   "name": "python3"
  },
  "language_info": {
   "codemirror_mode": {
    "name": "ipython",
    "version": 3
   },
   "file_extension": ".py",
   "mimetype": "text/x-python",
   "name": "python",
   "nbconvert_exporter": "python",
   "pygments_lexer": "ipython3",
   "version": "3.12.4"
  }
 },
 "nbformat": 4,
 "nbformat_minor": 2
}
