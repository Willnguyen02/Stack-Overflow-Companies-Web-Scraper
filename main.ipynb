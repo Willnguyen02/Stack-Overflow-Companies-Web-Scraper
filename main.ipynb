{
 "cells": [
  {
   "cell_type": "code",
   "execution_count": 6,
   "metadata": {},
   "outputs": [],
   "source": [
    "import pandas as pd\n",
    "import requests\n",
    "from bs4 import BeautifulSoup"
   ]
  },
  {
   "cell_type": "code",
   "execution_count": null,
   "metadata": {},
   "outputs": [],
   "source": [
    "url = input(\"Please paste your handshake url\")\n",
    "\n",
    "connection_attempts = 3\n",
    "\n",
    "while connection_attempts > 0:\n",
    "    response = requests.get(url)\n",
    "\n",
    "    if response.status_code == 200:\n",
    "        print(\"Successfully connected\")\n",
    "        soup = BeautifulSoup(response.text, \"html\")\n",
    "        print(soup)\n",
    "        break\n",
    "\n",
    "    elif response.status_code == 429:\n",
    "         print(\"Response [429], Reattempting to connect\")\n",
    "         connection_attempts -= 1\n",
    "\n",
    "    elif response.status_code == 403:\n",
    "            print(\"Access denied\") \n",
    "    else:\n",
    "         print(\"Invalid link\")\n",
    "\n",
    "\n"
   ]
  },
  {
   "cell_type": "code",
   "execution_count": null,
   "metadata": {},
   "outputs": [],
   "source": [
    "# Find and print all tags and their contents\n",
    "for tag in soup.find_all(True):\n",
    "    print(f\"Tag: <{tag.name}>\")\n",
    "    print(f\"Contents: {tag.prettify()}\")\n",
    "    print(\"-\" * 40)\n"
   ]
  },
  {
   "cell_type": "code",
   "execution_count": 38,
   "metadata": {},
   "outputs": [
    {
     "data": {
      "text/plain": [
       "[<a class=\"logo\" href=\"https://www.joinhandshake.com\"><img alt=\"Handshake logo image\" height=\"24\" src=\"https://handshake-production-cdn.joinhandshake.com/assets/logo-icon-42378cd841a06f65f897c87fcb32c4c27e6e4b686fb7e65a9420e9a0605386db.svg\"/>\n",
       " </a>,\n",
       " <a data-track-click=\"login-v2-clicked-signup-app-domain\" href=\"/student_account_registrations/new\">Sign up here.</a>,\n",
       " <a data-track-click=\"login-v2-clicked-signup-app-domain\" href=\"/student_account_registrations/new\">Sign up here.</a>,\n",
       " <a class=\"sso-button\" data-bind=\"click: track_sso_click\" href=\"https://sjsu.okta.com/app/sanjosestateuniversity_sjsuhandshake_1/exk5536is1LPSizqM0x7/sso/saml?SAMLRequest=hZJLb8IwEIT%2FSm4%2B5WXCywqRKByKBCqCtIdekAmbYkjskHWqtL%2B%2BDq%2FmUnreb2Z27QmR51nBxpXeyxWcKkBtjRGh1ELJiZJY5VCuofwUCbyu5iOy17pA5rq8KJyDEnLP5Q73%2FAhOonK3cdskFxmxpsZNSN5Y%2FQrxgJWjjpqfBcbGiORBoWG5hkqKTyhR6K9NA97dN74L9bHb7fQE%2BvPlWnyfFl7ddxHVOZRYs%2BmIbHrd1OuAD3aPU24HfDC0%2BTbt2x0%2FGAyHFAZ9SA2KWMFMmkCpR4R6NLC9gU1pTD1GA%2BYH78RalkqrRGVPQu6E%2FBiRqpRMcRTIJM8BmU7YeryYM%2Bp4bHuBkD3H8dJevqxjYr01ZzSHG4BYdZ5JZM2mj5347e3bkuKxpriuSqKwodn5vDL656eK0G3T4aUI1w7A7twIUwANtbYmKi94KbA5B2qe6FtUm5pkZvkVpNHV%2BMHsj5z7tF3H6Ac%3D\" title=\"San Jose State University users can sign in here.\"><div id=\"sso-name\">San Jose State University Sign On</div>\n",
       " <i class=\"fa fa-chevron-right\"></i>\n",
       " </a>,\n",
       " <a data-bind=\"click: toggle\" href=\"\">\n",
       " sign in with your email address.\n",
       " </a>,\n",
       " <a href=\"https://support.joinhandshake.com/hc/en-us\">Need Help?</a>,\n",
       " <a class=\"logo\" href=\"https://www.joinhandshake.com\" tabindex=\"1\"><img alt=\"Handshake logo image\" height=\"42\" src=\"https://handshake-production-cdn.joinhandshake.com/assets/handshake-light-logo-130b147b97cb783e62d30ae932c212fd55b7013ac902291d5101135d73e81db3.svg\"/>\n",
       " </a>,\n",
       " <a aria-label=\"Learn more about Handshake\" data-track-click=\"login-v2-clicked-learn-more\" href=\"https://www.joinhandshake.com\">Learn More</a>]"
      ]
     },
     "execution_count": 38,
     "metadata": {},
     "output_type": "execute_result"
    }
   ],
   "source": [
    "soup.find_all(\"a\")"
   ]
  },
  {
   "cell_type": "code",
   "execution_count": null,
   "metadata": {},
   "outputs": [],
   "source": []
  },
  {
   "cell_type": "code",
   "execution_count": null,
   "metadata": {},
   "outputs": [],
   "source": []
  }
 ],
 "metadata": {
  "kernelspec": {
   "display_name": "base",
   "language": "python",
   "name": "python3"
  },
  "language_info": {
   "codemirror_mode": {
    "name": "ipython",
    "version": 3
   },
   "file_extension": ".py",
   "mimetype": "text/x-python",
   "name": "python",
   "nbconvert_exporter": "python",
   "pygments_lexer": "ipython3",
   "version": "3.11.7"
  }
 },
 "nbformat": 4,
 "nbformat_minor": 2
}
